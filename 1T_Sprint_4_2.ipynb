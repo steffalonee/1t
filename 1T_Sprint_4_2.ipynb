{
  "nbformat": 4,
  "nbformat_minor": 0,
  "metadata": {
    "colab": {
      "provenance": [],
      "authorship_tag": "ABX9TyOBIxWp7Kjf3yXsBtNMEzf3",
      "include_colab_link": true
    },
    "kernelspec": {
      "name": "python3",
      "display_name": "Python 3"
    },
    "language_info": {
      "name": "python"
    }
  },
  "cells": [
    {
      "cell_type": "markdown",
      "metadata": {
        "id": "view-in-github",
        "colab_type": "text"
      },
      "source": [
        "<a href=\"https://colab.research.google.com/github/steffalonee/DE_1TSprint/blob/main/1T_Sprint_4_2.ipynb\" target=\"_parent\"><img src=\"https://colab.research.google.com/assets/colab-badge.svg\" alt=\"Open In Colab\"/></a>"
      ]
    },
    {
      "cell_type": "code",
      "execution_count": 1,
      "metadata": {
        "id": "xOn_zO-i6K0a"
      },
      "outputs": [],
      "source": [
        "import pandas as pd\n",
        "import numpy as np\n",
        "\n",
        "import matplotlib.pyplot as plt\n",
        "import seaborn as sns\n",
        "\n",
        "from sklearn.model_selection import RandomizedSearchCV, train_test_split\n",
        "from sklearn.linear_model import LogisticRegression\n",
        "from sklearn.feature_selection import mutual_info_classif\n",
        "from sklearn.manifold import TSNE\n",
        "from sklearn.decomposition import PCA\n",
        "from sklearn.ensemble import RandomForestClassifier\n",
        "from sklearn.tree import DecisionTreeClassifier\n",
        "\n",
        "from sklearn.preprocessing import OneHotEncoder, StandardScaler\n",
        "\n",
        "from sklearn.metrics import classification_report, f1_score, accuracy_score, roc_auc_score"
      ]
    },
    {
      "cell_type": "code",
      "source": [
        "df_train = pd.read_csv('./data/application_data.csv')\n",
        "# сократим до 100.000\n",
        "df_train = df_train.sample(100_000)\n",
        "df_train.info()"
      ],
      "metadata": {
        "colab": {
          "base_uri": "https://localhost:8080/"
        },
        "id": "NGIaiw7B6Osz",
        "outputId": "a146c8be-a7a2-405d-e784-b1d469ed7a3f"
      },
      "execution_count": 3,
      "outputs": [
        {
          "output_type": "stream",
          "name": "stdout",
          "text": [
            "<class 'pandas.core.frame.DataFrame'>\n",
            "Int64Index: 100000 entries, 294828 to 251639\n",
            "Columns: 122 entries, SK_ID_CURR to AMT_REQ_CREDIT_BUREAU_YEAR\n",
            "dtypes: float64(65), int64(41), object(16)\n",
            "memory usage: 93.8+ MB\n"
          ]
        }
      ]
    },
    {
      "cell_type": "code",
      "source": [
        "# удалим колонки, где пропусков больше 50 %\n",
        "df_train_isna_percentage = round(df_train.isnull().sum()*100/len(df_train.index),1)\n",
        "df_train_isna_percentage = df_train_isna_percentage[df_train_isna_percentage.values > 50.0]\n",
        "df_train = df_train.drop(columns = df_train_isna_percentage.index)\n",
        "df_train.info()"
      ],
      "metadata": {
        "colab": {
          "base_uri": "https://localhost:8080/"
        },
        "id": "LVUDB8kp6nrT",
        "outputId": "bad383e7-d55d-4a94-8943-a90d37413867"
      },
      "execution_count": 4,
      "outputs": [
        {
          "output_type": "stream",
          "name": "stdout",
          "text": [
            "<class 'pandas.core.frame.DataFrame'>\n",
            "Int64Index: 100000 entries, 294828 to 251639\n",
            "Data columns (total 81 columns):\n",
            " #   Column                        Non-Null Count   Dtype  \n",
            "---  ------                        --------------   -----  \n",
            " 0   SK_ID_CURR                    100000 non-null  int64  \n",
            " 1   TARGET                        100000 non-null  int64  \n",
            " 2   NAME_CONTRACT_TYPE            100000 non-null  object \n",
            " 3   CODE_GENDER                   100000 non-null  object \n",
            " 4   FLAG_OWN_CAR                  100000 non-null  object \n",
            " 5   FLAG_OWN_REALTY               100000 non-null  object \n",
            " 6   CNT_CHILDREN                  100000 non-null  int64  \n",
            " 7   AMT_INCOME_TOTAL              100000 non-null  float64\n",
            " 8   AMT_CREDIT                    100000 non-null  float64\n",
            " 9   AMT_ANNUITY                   99995 non-null   float64\n",
            " 10  AMT_GOODS_PRICE               99896 non-null   float64\n",
            " 11  NAME_TYPE_SUITE               99568 non-null   object \n",
            " 12  NAME_INCOME_TYPE              100000 non-null  object \n",
            " 13  NAME_EDUCATION_TYPE           100000 non-null  object \n",
            " 14  NAME_FAMILY_STATUS            100000 non-null  object \n",
            " 15  NAME_HOUSING_TYPE             100000 non-null  object \n",
            " 16  REGION_POPULATION_RELATIVE    100000 non-null  float64\n",
            " 17  DAYS_BIRTH                    100000 non-null  int64  \n",
            " 18  DAYS_EMPLOYED                 100000 non-null  int64  \n",
            " 19  DAYS_REGISTRATION             100000 non-null  float64\n",
            " 20  DAYS_ID_PUBLISH               100000 non-null  int64  \n",
            " 21  FLAG_MOBIL                    100000 non-null  int64  \n",
            " 22  FLAG_EMP_PHONE                100000 non-null  int64  \n",
            " 23  FLAG_WORK_PHONE               100000 non-null  int64  \n",
            " 24  FLAG_CONT_MOBILE              100000 non-null  int64  \n",
            " 25  FLAG_PHONE                    100000 non-null  int64  \n",
            " 26  FLAG_EMAIL                    100000 non-null  int64  \n",
            " 27  OCCUPATION_TYPE               68821 non-null   object \n",
            " 28  CNT_FAM_MEMBERS               100000 non-null  float64\n",
            " 29  REGION_RATING_CLIENT          100000 non-null  int64  \n",
            " 30  REGION_RATING_CLIENT_W_CITY   100000 non-null  int64  \n",
            " 31  WEEKDAY_APPR_PROCESS_START    100000 non-null  object \n",
            " 32  HOUR_APPR_PROCESS_START       100000 non-null  int64  \n",
            " 33  REG_REGION_NOT_LIVE_REGION    100000 non-null  int64  \n",
            " 34  REG_REGION_NOT_WORK_REGION    100000 non-null  int64  \n",
            " 35  LIVE_REGION_NOT_WORK_REGION   100000 non-null  int64  \n",
            " 36  REG_CITY_NOT_LIVE_CITY        100000 non-null  int64  \n",
            " 37  REG_CITY_NOT_WORK_CITY        100000 non-null  int64  \n",
            " 38  LIVE_CITY_NOT_WORK_CITY       100000 non-null  int64  \n",
            " 39  ORGANIZATION_TYPE             100000 non-null  object \n",
            " 40  EXT_SOURCE_2                  99767 non-null   float64\n",
            " 41  EXT_SOURCE_3                  80255 non-null   float64\n",
            " 42  YEARS_BEGINEXPLUATATION_AVG   51162 non-null   float64\n",
            " 43  FLOORSMAX_AVG                 50230 non-null   float64\n",
            " 44  YEARS_BEGINEXPLUATATION_MODE  51162 non-null   float64\n",
            " 45  FLOORSMAX_MODE                50230 non-null   float64\n",
            " 46  YEARS_BEGINEXPLUATATION_MEDI  51162 non-null   float64\n",
            " 47  FLOORSMAX_MEDI                50230 non-null   float64\n",
            " 48  TOTALAREA_MODE                51698 non-null   float64\n",
            " 49  EMERGENCYSTATE_MODE           52537 non-null   object \n",
            " 50  OBS_30_CNT_SOCIAL_CIRCLE      99660 non-null   float64\n",
            " 51  DEF_30_CNT_SOCIAL_CIRCLE      99660 non-null   float64\n",
            " 52  OBS_60_CNT_SOCIAL_CIRCLE      99660 non-null   float64\n",
            " 53  DEF_60_CNT_SOCIAL_CIRCLE      99660 non-null   float64\n",
            " 54  DAYS_LAST_PHONE_CHANGE        100000 non-null  float64\n",
            " 55  FLAG_DOCUMENT_2               100000 non-null  int64  \n",
            " 56  FLAG_DOCUMENT_3               100000 non-null  int64  \n",
            " 57  FLAG_DOCUMENT_4               100000 non-null  int64  \n",
            " 58  FLAG_DOCUMENT_5               100000 non-null  int64  \n",
            " 59  FLAG_DOCUMENT_6               100000 non-null  int64  \n",
            " 60  FLAG_DOCUMENT_7               100000 non-null  int64  \n",
            " 61  FLAG_DOCUMENT_8               100000 non-null  int64  \n",
            " 62  FLAG_DOCUMENT_9               100000 non-null  int64  \n",
            " 63  FLAG_DOCUMENT_10              100000 non-null  int64  \n",
            " 64  FLAG_DOCUMENT_11              100000 non-null  int64  \n",
            " 65  FLAG_DOCUMENT_12              100000 non-null  int64  \n",
            " 66  FLAG_DOCUMENT_13              100000 non-null  int64  \n",
            " 67  FLAG_DOCUMENT_14              100000 non-null  int64  \n",
            " 68  FLAG_DOCUMENT_15              100000 non-null  int64  \n",
            " 69  FLAG_DOCUMENT_16              100000 non-null  int64  \n",
            " 70  FLAG_DOCUMENT_17              100000 non-null  int64  \n",
            " 71  FLAG_DOCUMENT_18              100000 non-null  int64  \n",
            " 72  FLAG_DOCUMENT_19              100000 non-null  int64  \n",
            " 73  FLAG_DOCUMENT_20              100000 non-null  int64  \n",
            " 74  FLAG_DOCUMENT_21              100000 non-null  int64  \n",
            " 75  AMT_REQ_CREDIT_BUREAU_HOUR    86495 non-null   float64\n",
            " 76  AMT_REQ_CREDIT_BUREAU_DAY     86495 non-null   float64\n",
            " 77  AMT_REQ_CREDIT_BUREAU_WEEK    86495 non-null   float64\n",
            " 78  AMT_REQ_CREDIT_BUREAU_MON     86495 non-null   float64\n",
            " 79  AMT_REQ_CREDIT_BUREAU_QRT     86495 non-null   float64\n",
            " 80  AMT_REQ_CREDIT_BUREAU_YEAR    86495 non-null   float64\n",
            "dtypes: float64(27), int64(41), object(13)\n",
            "memory usage: 62.6+ MB\n"
          ]
        }
      ]
    },
    {
      "cell_type": "code",
      "source": [
        "# Заполним пропуски медианными значениями\n",
        "median_columns = list(df_train.isna().sum().index)\n",
        "df_train[median_columns] = df_train[median_columns].fillna(df_train[median_columns].median())\n",
        "df_train.info()"
      ],
      "metadata": {
        "colab": {
          "base_uri": "https://localhost:8080/"
        },
        "id": "a6uh0d_66pgM",
        "outputId": "97ff6b6d-ea1d-46f4-e820-bd85c8d1188f"
      },
      "execution_count": 5,
      "outputs": [
        {
          "output_type": "stream",
          "name": "stderr",
          "text": [
            "<ipython-input-5-ba3f60a38c69>:3: FutureWarning: Dropping of nuisance columns in DataFrame reductions (with 'numeric_only=None') is deprecated; in a future version this will raise TypeError.  Select only valid columns before calling the reduction.\n",
            "  df_train[median_columns] = df_train[median_columns].fillna(df_train[median_columns].median())\n"
          ]
        },
        {
          "output_type": "stream",
          "name": "stdout",
          "text": [
            "<class 'pandas.core.frame.DataFrame'>\n",
            "Int64Index: 100000 entries, 294828 to 251639\n",
            "Data columns (total 81 columns):\n",
            " #   Column                        Non-Null Count   Dtype  \n",
            "---  ------                        --------------   -----  \n",
            " 0   SK_ID_CURR                    100000 non-null  int64  \n",
            " 1   TARGET                        100000 non-null  int64  \n",
            " 2   NAME_CONTRACT_TYPE            100000 non-null  object \n",
            " 3   CODE_GENDER                   100000 non-null  object \n",
            " 4   FLAG_OWN_CAR                  100000 non-null  object \n",
            " 5   FLAG_OWN_REALTY               100000 non-null  object \n",
            " 6   CNT_CHILDREN                  100000 non-null  int64  \n",
            " 7   AMT_INCOME_TOTAL              100000 non-null  float64\n",
            " 8   AMT_CREDIT                    100000 non-null  float64\n",
            " 9   AMT_ANNUITY                   100000 non-null  float64\n",
            " 10  AMT_GOODS_PRICE               100000 non-null  float64\n",
            " 11  NAME_TYPE_SUITE               99568 non-null   object \n",
            " 12  NAME_INCOME_TYPE              100000 non-null  object \n",
            " 13  NAME_EDUCATION_TYPE           100000 non-null  object \n",
            " 14  NAME_FAMILY_STATUS            100000 non-null  object \n",
            " 15  NAME_HOUSING_TYPE             100000 non-null  object \n",
            " 16  REGION_POPULATION_RELATIVE    100000 non-null  float64\n",
            " 17  DAYS_BIRTH                    100000 non-null  int64  \n",
            " 18  DAYS_EMPLOYED                 100000 non-null  int64  \n",
            " 19  DAYS_REGISTRATION             100000 non-null  float64\n",
            " 20  DAYS_ID_PUBLISH               100000 non-null  int64  \n",
            " 21  FLAG_MOBIL                    100000 non-null  int64  \n",
            " 22  FLAG_EMP_PHONE                100000 non-null  int64  \n",
            " 23  FLAG_WORK_PHONE               100000 non-null  int64  \n",
            " 24  FLAG_CONT_MOBILE              100000 non-null  int64  \n",
            " 25  FLAG_PHONE                    100000 non-null  int64  \n",
            " 26  FLAG_EMAIL                    100000 non-null  int64  \n",
            " 27  OCCUPATION_TYPE               68821 non-null   object \n",
            " 28  CNT_FAM_MEMBERS               100000 non-null  float64\n",
            " 29  REGION_RATING_CLIENT          100000 non-null  int64  \n",
            " 30  REGION_RATING_CLIENT_W_CITY   100000 non-null  int64  \n",
            " 31  WEEKDAY_APPR_PROCESS_START    100000 non-null  object \n",
            " 32  HOUR_APPR_PROCESS_START       100000 non-null  int64  \n",
            " 33  REG_REGION_NOT_LIVE_REGION    100000 non-null  int64  \n",
            " 34  REG_REGION_NOT_WORK_REGION    100000 non-null  int64  \n",
            " 35  LIVE_REGION_NOT_WORK_REGION   100000 non-null  int64  \n",
            " 36  REG_CITY_NOT_LIVE_CITY        100000 non-null  int64  \n",
            " 37  REG_CITY_NOT_WORK_CITY        100000 non-null  int64  \n",
            " 38  LIVE_CITY_NOT_WORK_CITY       100000 non-null  int64  \n",
            " 39  ORGANIZATION_TYPE             100000 non-null  object \n",
            " 40  EXT_SOURCE_2                  100000 non-null  float64\n",
            " 41  EXT_SOURCE_3                  100000 non-null  float64\n",
            " 42  YEARS_BEGINEXPLUATATION_AVG   100000 non-null  float64\n",
            " 43  FLOORSMAX_AVG                 100000 non-null  float64\n",
            " 44  YEARS_BEGINEXPLUATATION_MODE  100000 non-null  float64\n",
            " 45  FLOORSMAX_MODE                100000 non-null  float64\n",
            " 46  YEARS_BEGINEXPLUATATION_MEDI  100000 non-null  float64\n",
            " 47  FLOORSMAX_MEDI                100000 non-null  float64\n",
            " 48  TOTALAREA_MODE                100000 non-null  float64\n",
            " 49  EMERGENCYSTATE_MODE           52537 non-null   object \n",
            " 50  OBS_30_CNT_SOCIAL_CIRCLE      100000 non-null  float64\n",
            " 51  DEF_30_CNT_SOCIAL_CIRCLE      100000 non-null  float64\n",
            " 52  OBS_60_CNT_SOCIAL_CIRCLE      100000 non-null  float64\n",
            " 53  DEF_60_CNT_SOCIAL_CIRCLE      100000 non-null  float64\n",
            " 54  DAYS_LAST_PHONE_CHANGE        100000 non-null  float64\n",
            " 55  FLAG_DOCUMENT_2               100000 non-null  int64  \n",
            " 56  FLAG_DOCUMENT_3               100000 non-null  int64  \n",
            " 57  FLAG_DOCUMENT_4               100000 non-null  int64  \n",
            " 58  FLAG_DOCUMENT_5               100000 non-null  int64  \n",
            " 59  FLAG_DOCUMENT_6               100000 non-null  int64  \n",
            " 60  FLAG_DOCUMENT_7               100000 non-null  int64  \n",
            " 61  FLAG_DOCUMENT_8               100000 non-null  int64  \n",
            " 62  FLAG_DOCUMENT_9               100000 non-null  int64  \n",
            " 63  FLAG_DOCUMENT_10              100000 non-null  int64  \n",
            " 64  FLAG_DOCUMENT_11              100000 non-null  int64  \n",
            " 65  FLAG_DOCUMENT_12              100000 non-null  int64  \n",
            " 66  FLAG_DOCUMENT_13              100000 non-null  int64  \n",
            " 67  FLAG_DOCUMENT_14              100000 non-null  int64  \n",
            " 68  FLAG_DOCUMENT_15              100000 non-null  int64  \n",
            " 69  FLAG_DOCUMENT_16              100000 non-null  int64  \n",
            " 70  FLAG_DOCUMENT_17              100000 non-null  int64  \n",
            " 71  FLAG_DOCUMENT_18              100000 non-null  int64  \n",
            " 72  FLAG_DOCUMENT_19              100000 non-null  int64  \n",
            " 73  FLAG_DOCUMENT_20              100000 non-null  int64  \n",
            " 74  FLAG_DOCUMENT_21              100000 non-null  int64  \n",
            " 75  AMT_REQ_CREDIT_BUREAU_HOUR    100000 non-null  float64\n",
            " 76  AMT_REQ_CREDIT_BUREAU_DAY     100000 non-null  float64\n",
            " 77  AMT_REQ_CREDIT_BUREAU_WEEK    100000 non-null  float64\n",
            " 78  AMT_REQ_CREDIT_BUREAU_MON     100000 non-null  float64\n",
            " 79  AMT_REQ_CREDIT_BUREAU_QRT     100000 non-null  float64\n",
            " 80  AMT_REQ_CREDIT_BUREAU_YEAR    100000 non-null  float64\n",
            "dtypes: float64(27), int64(41), object(13)\n",
            "memory usage: 62.6+ MB\n"
          ]
        }
      ]
    },
    {
      "cell_type": "code",
      "source": [
        "# заменим пустые значение в категориальных признаках на моду\n",
        "\n",
        "object_columns = list(df_train.select_dtypes(include=['object']).columns)\n",
        "\n",
        "df_object_columns = df_train.loc[:,object_columns]\n",
        "d = df_object_columns.isna().sum() \n",
        "list(d[d.values != 0].index)"
      ],
      "metadata": {
        "colab": {
          "base_uri": "https://localhost:8080/"
        },
        "id": "Hsgio2NA6rL2",
        "outputId": "f7591852-aa60-4cd1-ac12-3242d7536b26"
      },
      "execution_count": 6,
      "outputs": [
        {
          "output_type": "execute_result",
          "data": {
            "text/plain": [
              "['NAME_TYPE_SUITE', 'OCCUPATION_TYPE', 'EMERGENCYSTATE_MODE']"
            ]
          },
          "metadata": {},
          "execution_count": 6
        }
      ]
    },
    {
      "cell_type": "code",
      "source": [
        "df_train['NAME_TYPE_SUITE'] = df_train['NAME_TYPE_SUITE'].fillna(df_train['NAME_TYPE_SUITE'].mode()[0])\n",
        "df_train['OCCUPATION_TYPE'] = df_train['OCCUPATION_TYPE'].fillna(df_train['OCCUPATION_TYPE'].mode()[0])\n",
        "df_train['EMERGENCYSTATE_MODE'] = df_train['EMERGENCYSTATE_MODE'].fillna(df_train['EMERGENCYSTATE_MODE'].mode()[0])\n",
        "df_train.info()"
      ],
      "metadata": {
        "colab": {
          "base_uri": "https://localhost:8080/"
        },
        "id": "l4VsS2XD6ssH",
        "outputId": "7cf6e04f-bee8-4674-f619-037c4724ab02"
      },
      "execution_count": 7,
      "outputs": [
        {
          "output_type": "stream",
          "name": "stdout",
          "text": [
            "<class 'pandas.core.frame.DataFrame'>\n",
            "Int64Index: 100000 entries, 294828 to 251639\n",
            "Data columns (total 81 columns):\n",
            " #   Column                        Non-Null Count   Dtype  \n",
            "---  ------                        --------------   -----  \n",
            " 0   SK_ID_CURR                    100000 non-null  int64  \n",
            " 1   TARGET                        100000 non-null  int64  \n",
            " 2   NAME_CONTRACT_TYPE            100000 non-null  object \n",
            " 3   CODE_GENDER                   100000 non-null  object \n",
            " 4   FLAG_OWN_CAR                  100000 non-null  object \n",
            " 5   FLAG_OWN_REALTY               100000 non-null  object \n",
            " 6   CNT_CHILDREN                  100000 non-null  int64  \n",
            " 7   AMT_INCOME_TOTAL              100000 non-null  float64\n",
            " 8   AMT_CREDIT                    100000 non-null  float64\n",
            " 9   AMT_ANNUITY                   100000 non-null  float64\n",
            " 10  AMT_GOODS_PRICE               100000 non-null  float64\n",
            " 11  NAME_TYPE_SUITE               100000 non-null  object \n",
            " 12  NAME_INCOME_TYPE              100000 non-null  object \n",
            " 13  NAME_EDUCATION_TYPE           100000 non-null  object \n",
            " 14  NAME_FAMILY_STATUS            100000 non-null  object \n",
            " 15  NAME_HOUSING_TYPE             100000 non-null  object \n",
            " 16  REGION_POPULATION_RELATIVE    100000 non-null  float64\n",
            " 17  DAYS_BIRTH                    100000 non-null  int64  \n",
            " 18  DAYS_EMPLOYED                 100000 non-null  int64  \n",
            " 19  DAYS_REGISTRATION             100000 non-null  float64\n",
            " 20  DAYS_ID_PUBLISH               100000 non-null  int64  \n",
            " 21  FLAG_MOBIL                    100000 non-null  int64  \n",
            " 22  FLAG_EMP_PHONE                100000 non-null  int64  \n",
            " 23  FLAG_WORK_PHONE               100000 non-null  int64  \n",
            " 24  FLAG_CONT_MOBILE              100000 non-null  int64  \n",
            " 25  FLAG_PHONE                    100000 non-null  int64  \n",
            " 26  FLAG_EMAIL                    100000 non-null  int64  \n",
            " 27  OCCUPATION_TYPE               100000 non-null  object \n",
            " 28  CNT_FAM_MEMBERS               100000 non-null  float64\n",
            " 29  REGION_RATING_CLIENT          100000 non-null  int64  \n",
            " 30  REGION_RATING_CLIENT_W_CITY   100000 non-null  int64  \n",
            " 31  WEEKDAY_APPR_PROCESS_START    100000 non-null  object \n",
            " 32  HOUR_APPR_PROCESS_START       100000 non-null  int64  \n",
            " 33  REG_REGION_NOT_LIVE_REGION    100000 non-null  int64  \n",
            " 34  REG_REGION_NOT_WORK_REGION    100000 non-null  int64  \n",
            " 35  LIVE_REGION_NOT_WORK_REGION   100000 non-null  int64  \n",
            " 36  REG_CITY_NOT_LIVE_CITY        100000 non-null  int64  \n",
            " 37  REG_CITY_NOT_WORK_CITY        100000 non-null  int64  \n",
            " 38  LIVE_CITY_NOT_WORK_CITY       100000 non-null  int64  \n",
            " 39  ORGANIZATION_TYPE             100000 non-null  object \n",
            " 40  EXT_SOURCE_2                  100000 non-null  float64\n",
            " 41  EXT_SOURCE_3                  100000 non-null  float64\n",
            " 42  YEARS_BEGINEXPLUATATION_AVG   100000 non-null  float64\n",
            " 43  FLOORSMAX_AVG                 100000 non-null  float64\n",
            " 44  YEARS_BEGINEXPLUATATION_MODE  100000 non-null  float64\n",
            " 45  FLOORSMAX_MODE                100000 non-null  float64\n",
            " 46  YEARS_BEGINEXPLUATATION_MEDI  100000 non-null  float64\n",
            " 47  FLOORSMAX_MEDI                100000 non-null  float64\n",
            " 48  TOTALAREA_MODE                100000 non-null  float64\n",
            " 49  EMERGENCYSTATE_MODE           100000 non-null  object \n",
            " 50  OBS_30_CNT_SOCIAL_CIRCLE      100000 non-null  float64\n",
            " 51  DEF_30_CNT_SOCIAL_CIRCLE      100000 non-null  float64\n",
            " 52  OBS_60_CNT_SOCIAL_CIRCLE      100000 non-null  float64\n",
            " 53  DEF_60_CNT_SOCIAL_CIRCLE      100000 non-null  float64\n",
            " 54  DAYS_LAST_PHONE_CHANGE        100000 non-null  float64\n",
            " 55  FLAG_DOCUMENT_2               100000 non-null  int64  \n",
            " 56  FLAG_DOCUMENT_3               100000 non-null  int64  \n",
            " 57  FLAG_DOCUMENT_4               100000 non-null  int64  \n",
            " 58  FLAG_DOCUMENT_5               100000 non-null  int64  \n",
            " 59  FLAG_DOCUMENT_6               100000 non-null  int64  \n",
            " 60  FLAG_DOCUMENT_7               100000 non-null  int64  \n",
            " 61  FLAG_DOCUMENT_8               100000 non-null  int64  \n",
            " 62  FLAG_DOCUMENT_9               100000 non-null  int64  \n",
            " 63  FLAG_DOCUMENT_10              100000 non-null  int64  \n",
            " 64  FLAG_DOCUMENT_11              100000 non-null  int64  \n",
            " 65  FLAG_DOCUMENT_12              100000 non-null  int64  \n",
            " 66  FLAG_DOCUMENT_13              100000 non-null  int64  \n",
            " 67  FLAG_DOCUMENT_14              100000 non-null  int64  \n",
            " 68  FLAG_DOCUMENT_15              100000 non-null  int64  \n",
            " 69  FLAG_DOCUMENT_16              100000 non-null  int64  \n",
            " 70  FLAG_DOCUMENT_17              100000 non-null  int64  \n",
            " 71  FLAG_DOCUMENT_18              100000 non-null  int64  \n",
            " 72  FLAG_DOCUMENT_19              100000 non-null  int64  \n",
            " 73  FLAG_DOCUMENT_20              100000 non-null  int64  \n",
            " 74  FLAG_DOCUMENT_21              100000 non-null  int64  \n",
            " 75  AMT_REQ_CREDIT_BUREAU_HOUR    100000 non-null  float64\n",
            " 76  AMT_REQ_CREDIT_BUREAU_DAY     100000 non-null  float64\n",
            " 77  AMT_REQ_CREDIT_BUREAU_WEEK    100000 non-null  float64\n",
            " 78  AMT_REQ_CREDIT_BUREAU_MON     100000 non-null  float64\n",
            " 79  AMT_REQ_CREDIT_BUREAU_QRT     100000 non-null  float64\n",
            " 80  AMT_REQ_CREDIT_BUREAU_YEAR    100000 non-null  float64\n",
            "dtypes: float64(27), int64(41), object(13)\n",
            "memory usage: 62.6+ MB\n"
          ]
        }
      ]
    },
    {
      "cell_type": "code",
      "source": [
        "# Кодирование категориальных признаков типа OneHotEncoder\n",
        "\n",
        "df_train = pd.get_dummies(df_train, drop_first=True)\n",
        "df_train.head()"
      ],
      "metadata": {
        "colab": {
          "base_uri": "https://localhost:8080/",
          "height": 317
        },
        "id": "cN_9SEbS6tqn",
        "outputId": "b811e91c-a428-4279-b2b7-67b6b2753d14"
      },
      "execution_count": 8,
      "outputs": [
        {
          "output_type": "execute_result",
          "data": {
            "text/plain": [
              "        SK_ID_CURR  TARGET  CNT_CHILDREN  AMT_INCOME_TOTAL  AMT_CREDIT  \\\n",
              "294828      441561       0             0          112500.0    169155.0   \n",
              "164711      290927       0             2          180000.0    432661.5   \n",
              "120882      240158       0             0          180000.0   1350000.0   \n",
              "305828      454336       0             1          315000.0    526491.0   \n",
              "52744       161096       0             0          135000.0    454500.0   \n",
              "\n",
              "        AMT_ANNUITY  AMT_GOODS_PRICE  REGION_POPULATION_RELATIVE  DAYS_BIRTH  \\\n",
              "294828      18346.5         153000.0                    0.019101      -22884   \n",
              "164711      26275.5         373500.0                    0.018029       -9883   \n",
              "120882      51421.5        1350000.0                    0.018209      -18248   \n",
              "305828      27009.0         454500.0                    0.003541      -15978   \n",
              "52744       16231.5         454500.0                    0.028663      -21694   \n",
              "\n",
              "        DAYS_EMPLOYED  ...  ORGANIZATION_TYPE_Trade: type 5  \\\n",
              "294828         365243  ...                                0   \n",
              "164711          -1131  ...                                0   \n",
              "120882           -942  ...                                0   \n",
              "305828          -4771  ...                                0   \n",
              "52744           -3414  ...                                1   \n",
              "\n",
              "        ORGANIZATION_TYPE_Trade: type 6  ORGANIZATION_TYPE_Trade: type 7  \\\n",
              "294828                                0                                0   \n",
              "164711                                0                                0   \n",
              "120882                                0                                0   \n",
              "305828                                0                                0   \n",
              "52744                                 0                                0   \n",
              "\n",
              "        ORGANIZATION_TYPE_Transport: type 1  \\\n",
              "294828                                    0   \n",
              "164711                                    0   \n",
              "120882                                    0   \n",
              "305828                                    0   \n",
              "52744                                     0   \n",
              "\n",
              "        ORGANIZATION_TYPE_Transport: type 2  \\\n",
              "294828                                    0   \n",
              "164711                                    0   \n",
              "120882                                    0   \n",
              "305828                                    0   \n",
              "52744                                     0   \n",
              "\n",
              "        ORGANIZATION_TYPE_Transport: type 3  \\\n",
              "294828                                    0   \n",
              "164711                                    0   \n",
              "120882                                    0   \n",
              "305828                                    0   \n",
              "52744                                     0   \n",
              "\n",
              "        ORGANIZATION_TYPE_Transport: type 4  ORGANIZATION_TYPE_University  \\\n",
              "294828                                    0                             0   \n",
              "164711                                    0                             0   \n",
              "120882                                    0                             0   \n",
              "305828                                    0                             0   \n",
              "52744                                     0                             0   \n",
              "\n",
              "        ORGANIZATION_TYPE_XNA  EMERGENCYSTATE_MODE_Yes  \n",
              "294828                      1                        0  \n",
              "164711                      0                        0  \n",
              "120882                      0                        0  \n",
              "305828                      0                        0  \n",
              "52744                       0                        0  \n",
              "\n",
              "[5 rows x 179 columns]"
            ],
            "text/html": [
              "\n",
              "  <div id=\"df-b49d3fa8-fbf7-46c0-9b07-a1067d544d6c\">\n",
              "    <div class=\"colab-df-container\">\n",
              "      <div>\n",
              "<style scoped>\n",
              "    .dataframe tbody tr th:only-of-type {\n",
              "        vertical-align: middle;\n",
              "    }\n",
              "\n",
              "    .dataframe tbody tr th {\n",
              "        vertical-align: top;\n",
              "    }\n",
              "\n",
              "    .dataframe thead th {\n",
              "        text-align: right;\n",
              "    }\n",
              "</style>\n",
              "<table border=\"1\" class=\"dataframe\">\n",
              "  <thead>\n",
              "    <tr style=\"text-align: right;\">\n",
              "      <th></th>\n",
              "      <th>SK_ID_CURR</th>\n",
              "      <th>TARGET</th>\n",
              "      <th>CNT_CHILDREN</th>\n",
              "      <th>AMT_INCOME_TOTAL</th>\n",
              "      <th>AMT_CREDIT</th>\n",
              "      <th>AMT_ANNUITY</th>\n",
              "      <th>AMT_GOODS_PRICE</th>\n",
              "      <th>REGION_POPULATION_RELATIVE</th>\n",
              "      <th>DAYS_BIRTH</th>\n",
              "      <th>DAYS_EMPLOYED</th>\n",
              "      <th>...</th>\n",
              "      <th>ORGANIZATION_TYPE_Trade: type 5</th>\n",
              "      <th>ORGANIZATION_TYPE_Trade: type 6</th>\n",
              "      <th>ORGANIZATION_TYPE_Trade: type 7</th>\n",
              "      <th>ORGANIZATION_TYPE_Transport: type 1</th>\n",
              "      <th>ORGANIZATION_TYPE_Transport: type 2</th>\n",
              "      <th>ORGANIZATION_TYPE_Transport: type 3</th>\n",
              "      <th>ORGANIZATION_TYPE_Transport: type 4</th>\n",
              "      <th>ORGANIZATION_TYPE_University</th>\n",
              "      <th>ORGANIZATION_TYPE_XNA</th>\n",
              "      <th>EMERGENCYSTATE_MODE_Yes</th>\n",
              "    </tr>\n",
              "  </thead>\n",
              "  <tbody>\n",
              "    <tr>\n",
              "      <th>294828</th>\n",
              "      <td>441561</td>\n",
              "      <td>0</td>\n",
              "      <td>0</td>\n",
              "      <td>112500.0</td>\n",
              "      <td>169155.0</td>\n",
              "      <td>18346.5</td>\n",
              "      <td>153000.0</td>\n",
              "      <td>0.019101</td>\n",
              "      <td>-22884</td>\n",
              "      <td>365243</td>\n",
              "      <td>...</td>\n",
              "      <td>0</td>\n",
              "      <td>0</td>\n",
              "      <td>0</td>\n",
              "      <td>0</td>\n",
              "      <td>0</td>\n",
              "      <td>0</td>\n",
              "      <td>0</td>\n",
              "      <td>0</td>\n",
              "      <td>1</td>\n",
              "      <td>0</td>\n",
              "    </tr>\n",
              "    <tr>\n",
              "      <th>164711</th>\n",
              "      <td>290927</td>\n",
              "      <td>0</td>\n",
              "      <td>2</td>\n",
              "      <td>180000.0</td>\n",
              "      <td>432661.5</td>\n",
              "      <td>26275.5</td>\n",
              "      <td>373500.0</td>\n",
              "      <td>0.018029</td>\n",
              "      <td>-9883</td>\n",
              "      <td>-1131</td>\n",
              "      <td>...</td>\n",
              "      <td>0</td>\n",
              "      <td>0</td>\n",
              "      <td>0</td>\n",
              "      <td>0</td>\n",
              "      <td>0</td>\n",
              "      <td>0</td>\n",
              "      <td>0</td>\n",
              "      <td>0</td>\n",
              "      <td>0</td>\n",
              "      <td>0</td>\n",
              "    </tr>\n",
              "    <tr>\n",
              "      <th>120882</th>\n",
              "      <td>240158</td>\n",
              "      <td>0</td>\n",
              "      <td>0</td>\n",
              "      <td>180000.0</td>\n",
              "      <td>1350000.0</td>\n",
              "      <td>51421.5</td>\n",
              "      <td>1350000.0</td>\n",
              "      <td>0.018209</td>\n",
              "      <td>-18248</td>\n",
              "      <td>-942</td>\n",
              "      <td>...</td>\n",
              "      <td>0</td>\n",
              "      <td>0</td>\n",
              "      <td>0</td>\n",
              "      <td>0</td>\n",
              "      <td>0</td>\n",
              "      <td>0</td>\n",
              "      <td>0</td>\n",
              "      <td>0</td>\n",
              "      <td>0</td>\n",
              "      <td>0</td>\n",
              "    </tr>\n",
              "    <tr>\n",
              "      <th>305828</th>\n",
              "      <td>454336</td>\n",
              "      <td>0</td>\n",
              "      <td>1</td>\n",
              "      <td>315000.0</td>\n",
              "      <td>526491.0</td>\n",
              "      <td>27009.0</td>\n",
              "      <td>454500.0</td>\n",
              "      <td>0.003541</td>\n",
              "      <td>-15978</td>\n",
              "      <td>-4771</td>\n",
              "      <td>...</td>\n",
              "      <td>0</td>\n",
              "      <td>0</td>\n",
              "      <td>0</td>\n",
              "      <td>0</td>\n",
              "      <td>0</td>\n",
              "      <td>0</td>\n",
              "      <td>0</td>\n",
              "      <td>0</td>\n",
              "      <td>0</td>\n",
              "      <td>0</td>\n",
              "    </tr>\n",
              "    <tr>\n",
              "      <th>52744</th>\n",
              "      <td>161096</td>\n",
              "      <td>0</td>\n",
              "      <td>0</td>\n",
              "      <td>135000.0</td>\n",
              "      <td>454500.0</td>\n",
              "      <td>16231.5</td>\n",
              "      <td>454500.0</td>\n",
              "      <td>0.028663</td>\n",
              "      <td>-21694</td>\n",
              "      <td>-3414</td>\n",
              "      <td>...</td>\n",
              "      <td>1</td>\n",
              "      <td>0</td>\n",
              "      <td>0</td>\n",
              "      <td>0</td>\n",
              "      <td>0</td>\n",
              "      <td>0</td>\n",
              "      <td>0</td>\n",
              "      <td>0</td>\n",
              "      <td>0</td>\n",
              "      <td>0</td>\n",
              "    </tr>\n",
              "  </tbody>\n",
              "</table>\n",
              "<p>5 rows × 179 columns</p>\n",
              "</div>\n",
              "      <button class=\"colab-df-convert\" onclick=\"convertToInteractive('df-b49d3fa8-fbf7-46c0-9b07-a1067d544d6c')\"\n",
              "              title=\"Convert this dataframe to an interactive table.\"\n",
              "              style=\"display:none;\">\n",
              "        \n",
              "  <svg xmlns=\"http://www.w3.org/2000/svg\" height=\"24px\"viewBox=\"0 0 24 24\"\n",
              "       width=\"24px\">\n",
              "    <path d=\"M0 0h24v24H0V0z\" fill=\"none\"/>\n",
              "    <path d=\"M18.56 5.44l.94 2.06.94-2.06 2.06-.94-2.06-.94-.94-2.06-.94 2.06-2.06.94zm-11 1L8.5 8.5l.94-2.06 2.06-.94-2.06-.94L8.5 2.5l-.94 2.06-2.06.94zm10 10l.94 2.06.94-2.06 2.06-.94-2.06-.94-.94-2.06-.94 2.06-2.06.94z\"/><path d=\"M17.41 7.96l-1.37-1.37c-.4-.4-.92-.59-1.43-.59-.52 0-1.04.2-1.43.59L10.3 9.45l-7.72 7.72c-.78.78-.78 2.05 0 2.83L4 21.41c.39.39.9.59 1.41.59.51 0 1.02-.2 1.41-.59l7.78-7.78 2.81-2.81c.8-.78.8-2.07 0-2.86zM5.41 20L4 18.59l7.72-7.72 1.47 1.35L5.41 20z\"/>\n",
              "  </svg>\n",
              "      </button>\n",
              "      \n",
              "  <style>\n",
              "    .colab-df-container {\n",
              "      display:flex;\n",
              "      flex-wrap:wrap;\n",
              "      gap: 12px;\n",
              "    }\n",
              "\n",
              "    .colab-df-convert {\n",
              "      background-color: #E8F0FE;\n",
              "      border: none;\n",
              "      border-radius: 50%;\n",
              "      cursor: pointer;\n",
              "      display: none;\n",
              "      fill: #1967D2;\n",
              "      height: 32px;\n",
              "      padding: 0 0 0 0;\n",
              "      width: 32px;\n",
              "    }\n",
              "\n",
              "    .colab-df-convert:hover {\n",
              "      background-color: #E2EBFA;\n",
              "      box-shadow: 0px 1px 2px rgba(60, 64, 67, 0.3), 0px 1px 3px 1px rgba(60, 64, 67, 0.15);\n",
              "      fill: #174EA6;\n",
              "    }\n",
              "\n",
              "    [theme=dark] .colab-df-convert {\n",
              "      background-color: #3B4455;\n",
              "      fill: #D2E3FC;\n",
              "    }\n",
              "\n",
              "    [theme=dark] .colab-df-convert:hover {\n",
              "      background-color: #434B5C;\n",
              "      box-shadow: 0px 1px 3px 1px rgba(0, 0, 0, 0.15);\n",
              "      filter: drop-shadow(0px 1px 2px rgba(0, 0, 0, 0.3));\n",
              "      fill: #FFFFFF;\n",
              "    }\n",
              "  </style>\n",
              "\n",
              "      <script>\n",
              "        const buttonEl =\n",
              "          document.querySelector('#df-b49d3fa8-fbf7-46c0-9b07-a1067d544d6c button.colab-df-convert');\n",
              "        buttonEl.style.display =\n",
              "          google.colab.kernel.accessAllowed ? 'block' : 'none';\n",
              "\n",
              "        async function convertToInteractive(key) {\n",
              "          const element = document.querySelector('#df-b49d3fa8-fbf7-46c0-9b07-a1067d544d6c');\n",
              "          const dataTable =\n",
              "            await google.colab.kernel.invokeFunction('convertToInteractive',\n",
              "                                                     [key], {});\n",
              "          if (!dataTable) return;\n",
              "\n",
              "          const docLinkHtml = 'Like what you see? Visit the ' +\n",
              "            '<a target=\"_blank\" href=https://colab.research.google.com/notebooks/data_table.ipynb>data table notebook</a>'\n",
              "            + ' to learn more about interactive tables.';\n",
              "          element.innerHTML = '';\n",
              "          dataTable['output_type'] = 'display_data';\n",
              "          await google.colab.output.renderOutput(dataTable, element);\n",
              "          const docLink = document.createElement('div');\n",
              "          docLink.innerHTML = docLinkHtml;\n",
              "          element.appendChild(docLink);\n",
              "        }\n",
              "      </script>\n",
              "    </div>\n",
              "  </div>\n",
              "  "
            ]
          },
          "metadata": {},
          "execution_count": 8
        }
      ]
    },
    {
      "cell_type": "code",
      "source": [
        "# разбивка\n",
        "\n",
        "X = df_train.drop(columns = ['TARGET'])\n",
        "y = df_train['TARGET']\n",
        "\n",
        "X_train, X_valid, y_train, y_valid= train_test_split(X, y, test_size=0.20, random_state=111222, stratify=y)\n",
        "\n",
        "X_train.shape, X_valid.shape"
      ],
      "metadata": {
        "colab": {
          "base_uri": "https://localhost:8080/"
        },
        "id": "QIFf0Q166wKW",
        "outputId": "3b1814eb-e23a-4f79-b1d6-64f84d4f152b"
      },
      "execution_count": 9,
      "outputs": [
        {
          "output_type": "execute_result",
          "data": {
            "text/plain": [
              "((80000, 178), (20000, 178))"
            ]
          },
          "metadata": {},
          "execution_count": 9
        }
      ]
    },
    {
      "cell_type": "code",
      "source": [
        "# удаление неважных\n",
        "\n",
        "importances = mutual_info_classif(X_train, y_train)\n",
        "feature_importances = pd.Series(importances, X_train.columns[0:len(X_train.columns)])\n",
        "\n",
        "important_feature = feature_importances[feature_importances.values > 0.01]\n",
        "drop_feature = feature_importances[feature_importances.values <= 0.01]\n",
        "# посмотрим на важные\n",
        "\n",
        "plt.figure(figsize=(20,5))\n",
        "important_feature.sort_values().plot(kind='barh')\n",
        "plt.show()"
      ],
      "metadata": {
        "colab": {
          "base_uri": "https://localhost:8080/",
          "height": 255
        },
        "id": "gNHE-Mpq6xSl",
        "outputId": "5a13e1cb-24e5-496b-f911-16d714e86290"
      },
      "execution_count": 10,
      "outputs": [
        {
          "output_type": "display_data",
          "data": {
            "text/plain": [
              "<Figure size 1440x360 with 1 Axes>"
            ],
            "image/png": "[encoded data removed]"
          },
          "metadata": {
            "needs_background": "light"
          }
        }
      ]
    },
    {
      "cell_type": "code",
      "source": [
        "len(X_train.columns), len(drop_feature.index)"
      ],
      "metadata": {
        "colab": {
          "base_uri": "https://localhost:8080/"
        },
        "id": "fyxOjWAv6ymQ",
        "outputId": "0dc404fa-3898-47cf-e4d9-44d2b6cc5354"
      },
      "execution_count": 11,
      "outputs": [
        {
          "output_type": "execute_result",
          "data": {
            "text/plain": [
              "(178, 167)"
            ]
          },
          "metadata": {},
          "execution_count": 11
        }
      ]
    },
    {
      "cell_type": "code",
      "source": [
        "X_train = X_train.drop(columns = drop_feature.index)\n",
        "X_valid = X_valid.drop(columns = drop_feature.index)\n",
        "len(X_train.columns)"
      ],
      "metadata": {
        "colab": {
          "base_uri": "https://localhost:8080/"
        },
        "id": "gHAySz-o6zuD",
        "outputId": "3517d20e-ac0e-43e4-c5a2-95824a5528ee"
      },
      "execution_count": 12,
      "outputs": [
        {
          "output_type": "execute_result",
          "data": {
            "text/plain": [
              "11"
            ]
          },
          "metadata": {},
          "execution_count": 12
        }
      ]
    },
    {
      "cell_type": "code",
      "source": [
        "# отмасштабируем\n",
        "\n",
        "numeric = list(X_train.columns)\n",
        "\n",
        "scaler = StandardScaler()\n",
        "scaler.fit(X_train[numeric])\n",
        "X_train[numeric] = scaler.transform(X_train[numeric])\n",
        "X_valid[numeric] = scaler.transform(X_valid[numeric])\n",
        "X_train.sample(10)"
      ],
      "metadata": {
        "colab": {
          "base_uri": "https://localhost:8080/",
          "height": 444
        },
        "id": "LDkItTlB60oP",
        "outputId": "c36251e3-3eb5-4c19-bd11-f4bffb47b6bf"
      },
      "execution_count": 13,
      "outputs": [
        {
          "output_type": "execute_result",
          "data": {
            "text/plain": [
              "        AMT_ANNUITY  FLAG_MOBIL  FLAG_EMP_PHONE  FLAG_CONT_MOBILE  \\\n",
              "75476     -1.183245         0.0         0.46745          0.044766   \n",
              "179155    -0.309472         0.0         0.46745          0.044766   \n",
              "179579    -0.089397         0.0         0.46745          0.044766   \n",
              "32489     -0.937992         0.0         0.46745          0.044766   \n",
              "66732      0.006031         0.0         0.46745          0.044766   \n",
              "304346     1.822273         0.0         0.46745          0.044766   \n",
              "241381    -0.082247         0.0         0.46745          0.044766   \n",
              "263764    -0.943276         0.0         0.46745          0.044766   \n",
              "231563    -1.093412         0.0         0.46745          0.044766   \n",
              "246468     0.206834         0.0         0.46745          0.044766   \n",
              "\n",
              "        REGION_RATING_CLIENT  REGION_RATING_CLIENT_W_CITY  EXT_SOURCE_2  \\\n",
              "75476              -0.105702                    -0.065941     -1.063461   \n",
              "179155             -0.105702                    -0.065941      0.346095   \n",
              "179579             -0.105702                    -0.065941     -1.390653   \n",
              "32489              -2.071796                    -2.055860      1.140153   \n",
              "66732              -0.105702                    -0.065941      1.098194   \n",
              "304346             -0.105702                    -0.065941      0.710650   \n",
              "241381              1.860392                    -0.065941      0.371382   \n",
              "263764              1.860392                     1.923978     -0.198247   \n",
              "231563             -0.105702                    -0.065941      0.538140   \n",
              "246468             -0.105702                    -0.065941      0.425516   \n",
              "\n",
              "        EXT_SOURCE_3  NAME_TYPE_SUITE_Unaccompanied  \\\n",
              "75476      -0.584913                       0.479576   \n",
              "179155      1.477776                       0.479576   \n",
              "179579      0.111695                       0.479576   \n",
              "32489       0.111695                       0.479576   \n",
              "66732      -0.115073                       0.479576   \n",
              "304346     -0.423246                       0.479576   \n",
              "241381      0.111695                       0.479576   \n",
              "263764     -2.139836                       0.479576   \n",
              "231563      1.012129                       0.479576   \n",
              "246468     -0.218217                      -2.085174   \n",
              "\n",
              "        NAME_EDUCATION_TYPE_Secondary / secondary special  \\\n",
              "75476                                            0.638597   \n",
              "179155                                           0.638597   \n",
              "179579                                          -1.565933   \n",
              "32489                                            0.638597   \n",
              "66732                                            0.638597   \n",
              "304346                                          -1.565933   \n",
              "241381                                          -1.565933   \n",
              "263764                                           0.638597   \n",
              "231563                                           0.638597   \n",
              "246468                                          -1.565933   \n",
              "\n",
              "        NAME_HOUSING_TYPE_House / apartment  \n",
              "75476                             -2.799612  \n",
              "179155                             0.357192  \n",
              "179579                             0.357192  \n",
              "32489                             -2.799612  \n",
              "66732                              0.357192  \n",
              "304346                             0.357192  \n",
              "241381                             0.357192  \n",
              "263764                             0.357192  \n",
              "231563                             0.357192  \n",
              "246468                            -2.799612  "
            ],
            "text/html": [
              "\n",
              "  <div id=\"df-077248e5-2437-42dc-8601-c05cf4d18aec\">\n",
              "    <div class=\"colab-df-container\">\n",
              "      <div>\n",
              "<style scoped>\n",
              "    .dataframe tbody tr th:only-of-type {\n",
              "        vertical-align: middle;\n",
              "    }\n",
              "\n",
              "    .dataframe tbody tr th {\n",
              "        vertical-align: top;\n",
              "    }\n",
              "\n",
              "    .dataframe thead th {\n",
              "        text-align: right;\n",
              "    }\n",
              "</style>\n",
              "<table border=\"1\" class=\"dataframe\">\n",
              "  <thead>\n",
              "    <tr style=\"text-align: right;\">\n",
              "      <th></th>\n",
              "      <th>AMT_ANNUITY</th>\n",
              "      <th>FLAG_MOBIL</th>\n",
              "      <th>FLAG_EMP_PHONE</th>\n",
              "      <th>FLAG_CONT_MOBILE</th>\n",
              "      <th>REGION_RATING_CLIENT</th>\n",
              "      <th>REGION_RATING_CLIENT_W_CITY</th>\n",
              "      <th>EXT_SOURCE_2</th>\n",
              "      <th>EXT_SOURCE_3</th>\n",
              "      <th>NAME_TYPE_SUITE_Unaccompanied</th>\n",
              "      <th>NAME_EDUCATION_TYPE_Secondary / secondary special</th>\n",
              "      <th>NAME_HOUSING_TYPE_House / apartment</th>\n",
              "    </tr>\n",
              "  </thead>\n",
              "  <tbody>\n",
              "    <tr>\n",
              "      <th>75476</th>\n",
              "      <td>-1.183245</td>\n",
              "      <td>0.0</td>\n",
              "      <td>0.46745</td>\n",
              "      <td>0.044766</td>\n",
              "      <td>-0.105702</td>\n",
              "      <td>-0.065941</td>\n",
              "      <td>-1.063461</td>\n",
              "      <td>-0.584913</td>\n",
              "      <td>0.479576</td>\n",
              "      <td>0.638597</td>\n",
              "      <td>-2.799612</td>\n",
              "    </tr>\n",
              "    <tr>\n",
              "      <th>179155</th>\n",
              "      <td>-0.309472</td>\n",
              "      <td>0.0</td>\n",
              "      <td>0.46745</td>\n",
              "      <td>0.044766</td>\n",
              "      <td>-0.105702</td>\n",
              "      <td>-0.065941</td>\n",
              "      <td>0.346095</td>\n",
              "      <td>1.477776</td>\n",
              "      <td>0.479576</td>\n",
              "      <td>0.638597</td>\n",
              "      <td>0.357192</td>\n",
              "    </tr>\n",
              "    <tr>\n",
              "      <th>179579</th>\n",
              "      <td>-0.089397</td>\n",
              "      <td>0.0</td>\n",
              "      <td>0.46745</td>\n",
              "      <td>0.044766</td>\n",
              "      <td>-0.105702</td>\n",
              "      <td>-0.065941</td>\n",
              "      <td>-1.390653</td>\n",
              "      <td>0.111695</td>\n",
              "      <td>0.479576</td>\n",
              "      <td>-1.565933</td>\n",
              "      <td>0.357192</td>\n",
              "    </tr>\n",
              "    <tr>\n",
              "      <th>32489</th>\n",
              "      <td>-0.937992</td>\n",
              "      <td>0.0</td>\n",
              "      <td>0.46745</td>\n",
              "      <td>0.044766</td>\n",
              "      <td>-2.071796</td>\n",
              "      <td>-2.055860</td>\n",
              "      <td>1.140153</td>\n",
              "      <td>0.111695</td>\n",
              "      <td>0.479576</td>\n",
              "      <td>0.638597</td>\n",
              "      <td>-2.799612</td>\n",
              "    </tr>\n",
              "    <tr>\n",
              "      <th>66732</th>\n",
              "      <td>0.006031</td>\n",
              "      <td>0.0</td>\n",
              "      <td>0.46745</td>\n",
              "      <td>0.044766</td>\n",
              "      <td>-0.105702</td>\n",
              "      <td>-0.065941</td>\n",
              "      <td>1.098194</td>\n",
              "      <td>-0.115073</td>\n",
              "      <td>0.479576</td>\n",
              "      <td>0.638597</td>\n",
              "      <td>0.357192</td>\n",
              "    </tr>\n",
              "    <tr>\n",
              "      <th>304346</th>\n",
              "      <td>1.822273</td>\n",
              "      <td>0.0</td>\n",
              "      <td>0.46745</td>\n",
              "      <td>0.044766</td>\n",
              "      <td>-0.105702</td>\n",
              "      <td>-0.065941</td>\n",
              "      <td>0.710650</td>\n",
              "      <td>-0.423246</td>\n",
              "      <td>0.479576</td>\n",
              "      <td>-1.565933</td>\n",
              "      <td>0.357192</td>\n",
              "    </tr>\n",
              "    <tr>\n",
              "      <th>241381</th>\n",
              "      <td>-0.082247</td>\n",
              "      <td>0.0</td>\n",
              "      <td>0.46745</td>\n",
              "      <td>0.044766</td>\n",
              "      <td>1.860392</td>\n",
              "      <td>-0.065941</td>\n",
              "      <td>0.371382</td>\n",
              "      <td>0.111695</td>\n",
              "      <td>0.479576</td>\n",
              "      <td>-1.565933</td>\n",
              "      <td>0.357192</td>\n",
              "    </tr>\n",
              "    <tr>\n",
              "      <th>263764</th>\n",
              "      <td>-0.943276</td>\n",
              "      <td>0.0</td>\n",
              "      <td>0.46745</td>\n",
              "      <td>0.044766</td>\n",
              "      <td>1.860392</td>\n",
              "      <td>1.923978</td>\n",
              "      <td>-0.198247</td>\n",
              "      <td>-2.139836</td>\n",
              "      <td>0.479576</td>\n",
              "      <td>0.638597</td>\n",
              "      <td>0.357192</td>\n",
              "    </tr>\n",
              "    <tr>\n",
              "      <th>231563</th>\n",
              "      <td>-1.093412</td>\n",
              "      <td>0.0</td>\n",
              "      <td>0.46745</td>\n",
              "      <td>0.044766</td>\n",
              "      <td>-0.105702</td>\n",
              "      <td>-0.065941</td>\n",
              "      <td>0.538140</td>\n",
              "      <td>1.012129</td>\n",
              "      <td>0.479576</td>\n",
              "      <td>0.638597</td>\n",
              "      <td>0.357192</td>\n",
              "    </tr>\n",
              "    <tr>\n",
              "      <th>246468</th>\n",
              "      <td>0.206834</td>\n",
              "      <td>0.0</td>\n",
              "      <td>0.46745</td>\n",
              "      <td>0.044766</td>\n",
              "      <td>-0.105702</td>\n",
              "      <td>-0.065941</td>\n",
              "      <td>0.425516</td>\n",
              "      <td>-0.218217</td>\n",
              "      <td>-2.085174</td>\n",
              "      <td>-1.565933</td>\n",
              "      <td>-2.799612</td>\n",
              "    </tr>\n",
              "  </tbody>\n",
              "</table>\n",
              "</div>\n",
              "      <button class=\"colab-df-convert\" onclick=\"convertToInteractive('df-077248e5-2437-42dc-8601-c05cf4d18aec')\"\n",
              "              title=\"Convert this dataframe to an interactive table.\"\n",
              "              style=\"display:none;\">\n",
              "        \n",
              "  <svg xmlns=\"http://www.w3.org/2000/svg\" height=\"24px\"viewBox=\"0 0 24 24\"\n",
              "       width=\"24px\">\n",
              "    <path d=\"M0 0h24v24H0V0z\" fill=\"none\"/>\n",
              "    <path d=\"M18.56 5.44l.94 2.06.94-2.06 2.06-.94-2.06-.94-.94-2.06-.94 2.06-2.06.94zm-11 1L8.5 8.5l.94-2.06 2.06-.94-2.06-.94L8.5 2.5l-.94 2.06-2.06.94zm10 10l.94 2.06.94-2.06 2.06-.94-2.06-.94-.94-2.06-.94 2.06-2.06.94z\"/><path d=\"M17.41 7.96l-1.37-1.37c-.4-.4-.92-.59-1.43-.59-.52 0-1.04.2-1.43.59L10.3 9.45l-7.72 7.72c-.78.78-.78 2.05 0 2.83L4 21.41c.39.39.9.59 1.41.59.51 0 1.02-.2 1.41-.59l7.78-7.78 2.81-2.81c.8-.78.8-2.07 0-2.86zM5.41 20L4 18.59l7.72-7.72 1.47 1.35L5.41 20z\"/>\n",
              "  </svg>\n",
              "      </button>\n",
              "      \n",
              "  <style>\n",
              "    .colab-df-container {\n",
              "      display:flex;\n",
              "      flex-wrap:wrap;\n",
              "      gap: 12px;\n",
              "    }\n",
              "\n",
              "    .colab-df-convert {\n",
              "      background-color: #E8F0FE;\n",
              "      border: none;\n",
              "      border-radius: 50%;\n",
              "      cursor: pointer;\n",
              "      display: none;\n",
              "      fill: #1967D2;\n",
              "      height: 32px;\n",
              "      padding: 0 0 0 0;\n",
              "      width: 32px;\n",
              "    }\n",
              "\n",
              "    .colab-df-convert:hover {\n",
              "      background-color: #E2EBFA;\n",
              "      box-shadow: 0px 1px 2px rgba(60, 64, 67, 0.3), 0px 1px 3px 1px rgba(60, 64, 67, 0.15);\n",
              "      fill: #174EA6;\n",
              "    }\n",
              "\n",
              "    [theme=dark] .colab-df-convert {\n",
              "      background-color: #3B4455;\n",
              "      fill: #D2E3FC;\n",
              "    }\n",
              "\n",
              "    [theme=dark] .colab-df-convert:hover {\n",
              "      background-color: #434B5C;\n",
              "      box-shadow: 0px 1px 3px 1px rgba(0, 0, 0, 0.15);\n",
              "      filter: drop-shadow(0px 1px 2px rgba(0, 0, 0, 0.3));\n",
              "      fill: #FFFFFF;\n",
              "    }\n",
              "  </style>\n",
              "\n",
              "      <script>\n",
              "        const buttonEl =\n",
              "          document.querySelector('#df-077248e5-2437-42dc-8601-c05cf4d18aec button.colab-df-convert');\n",
              "        buttonEl.style.display =\n",
              "          google.colab.kernel.accessAllowed ? 'block' : 'none';\n",
              "\n",
              "        async function convertToInteractive(key) {\n",
              "          const element = document.querySelector('#df-077248e5-2437-42dc-8601-c05cf4d18aec');\n",
              "          const dataTable =\n",
              "            await google.colab.kernel.invokeFunction('convertToInteractive',\n",
              "                                                     [key], {});\n",
              "          if (!dataTable) return;\n",
              "\n",
              "          const docLinkHtml = 'Like what you see? Visit the ' +\n",
              "            '<a target=\"_blank\" href=https://colab.research.google.com/notebooks/data_table.ipynb>data table notebook</a>'\n",
              "            + ' to learn more about interactive tables.';\n",
              "          element.innerHTML = '';\n",
              "          dataTable['output_type'] = 'display_data';\n",
              "          await google.colab.output.renderOutput(dataTable, element);\n",
              "          const docLink = document.createElement('div');\n",
              "          docLink.innerHTML = docLinkHtml;\n",
              "          element.appendChild(docLink);\n",
              "        }\n",
              "      </script>\n",
              "    </div>\n",
              "  </div>\n",
              "  "
            ]
          },
          "metadata": {},
          "execution_count": 13
        }
      ]
    },
    {
      "cell_type": "code",
      "source": [
        "X_train_embedded = TSNE(n_components=2, learning_rate = 'auto', n_jobs = -1).fit_transform(X_train[:10000])\n",
        "X_train_embedded.shape"
      ],
      "metadata": {
        "colab": {
          "base_uri": "https://localhost:8080/"
        },
        "id": "uUO09wo361nN",
        "outputId": "6ee62c07-24fb-43d3-c562-e2dba8854283"
      },
      "execution_count": 14,
      "outputs": [
        {
          "output_type": "stream",
          "name": "stderr",
          "text": [
            "/usr/local/lib/python3.8/dist-packages/sklearn/manifold/_t_sne.py:780: FutureWarning: The default initialization in TSNE will change from 'random' to 'pca' in 1.2.\n",
            "  warnings.warn(\n"
          ]
        },
        {
          "output_type": "execute_result",
          "data": {
            "text/plain": [
              "(10000, 2)"
            ]
          },
          "metadata": {},
          "execution_count": 14
        }
      ]
    },
    {
      "cell_type": "code",
      "source": [
        "X_train_embedded[:, 0].shape, X_train_embedded[:, 1].shape, y_train[:10000].shape\n"
      ],
      "metadata": {
        "colab": {
          "base_uri": "https://localhost:8080/"
        },
        "id": "oUZUWDDL6277",
        "outputId": "4c7f32e9-139a-4ed7-a3b3-e1d2ec60d27b"
      },
      "execution_count": 15,
      "outputs": [
        {
          "output_type": "execute_result",
          "data": {
            "text/plain": [
              "((10000,), (10000,), (10000,))"
            ]
          },
          "metadata": {},
          "execution_count": 15
        }
      ]
    },
    {
      "cell_type": "code",
      "source": [
        "fig, ax = plt.subplots()\n",
        "sns.set(rc={'figure.figsize': (15, 8)}, font_scale=1.2, style='darkgrid')\n",
        "sns.scatterplot(x = X_train_embedded[:, 0], y = X_train_embedded[:, 1], hue=y_train[:10000], palette='bright')\n",
        "ax.set_title('TSNE-распределение признаков', fontsize=20)\n",
        "plt.show()"
      ],
      "metadata": {
        "colab": {
          "base_uri": "https://localhost:8080/",
          "height": 286
        },
        "id": "ocD4kom964Tp",
        "outputId": "f1a24677-00d5-467d-8e6d-89f13984f32c"
      },
      "execution_count": 16,
      "outputs": [
        {
          "output_type": "display_data",
          "data": {
            "text/plain": [
              "<Figure size 432x288 with 1 Axes>"
            ],
            "image/png": "[encoded data removed]"
          },
          "metadata": {
            "needs_background": "light"
          }
        }
      ]
    },
    {
      "cell_type": "code",
      "source": [
        "random_state = 1\n",
        "params = dict(\n",
        "    C = [100, 10, 1, 0.1, 0.01, 0.001],\n",
        "    penalty=['l1', 'l2', 'elasticnet'],\n",
        "    solver=['saga'],\n",
        "    multi_class =['auto', 'ovr', 'multinomial'],\n",
        "    l1_ratio=[1]\n",
        ")\n",
        "lr = LogisticRegression()\n",
        "lr = RandomizedSearchCV(lr, params, n_jobs=-1, cv=5, random_state=random_state)\n",
        "lr.fit(X_train, y_train)"
      ],
      "metadata": {
        "colab": {
          "base_uri": "https://localhost:8080/"
        },
        "id": "f54MGS9j651o",
        "outputId": "55a2195e-c100-4371-b601-7a76ef2e7983"
      },
      "execution_count": 17,
      "outputs": [
        {
          "output_type": "execute_result",
          "data": {
            "text/plain": [
              "RandomizedSearchCV(cv=5, estimator=LogisticRegression(), n_jobs=-1,\n",
              "                   param_distributions={'C': [100, 10, 1, 0.1, 0.01, 0.001],\n",
              "                                        'l1_ratio': [1],\n",
              "                                        'multi_class': ['auto', 'ovr',\n",
              "                                                        'multinomial'],\n",
              "                                        'penalty': ['l1', 'l2', 'elasticnet'],\n",
              "                                        'solver': ['saga']},\n",
              "                   random_state=1)"
            ]
          },
          "metadata": {},
          "execution_count": 17
        }
      ]
    },
    {
      "cell_type": "code",
      "source": [
        "best_params = lr.best_params_\n",
        "best_params"
      ],
      "metadata": {
        "colab": {
          "base_uri": "https://localhost:8080/"
        },
        "id": "bUtcrPJC67P0",
        "outputId": "8fdf9af7-91ff-47b0-f4c6-cbd1d9ba1b71"
      },
      "execution_count": 18,
      "outputs": [
        {
          "output_type": "execute_result",
          "data": {
            "text/plain": [
              "{'solver': 'saga',\n",
              " 'penalty': 'elasticnet',\n",
              " 'multi_class': 'auto',\n",
              " 'l1_ratio': 1,\n",
              " 'C': 0.001}"
            ]
          },
          "metadata": {},
          "execution_count": 18
        }
      ]
    },
    {
      "cell_type": "code",
      "source": [
        "for X, y, label in zip([X_train, X_valid], [y_train, y_valid], ['train', 'test']):\n",
        "  pred = lr.predict(X)\n",
        "  f1 = f1_score(y, lr.predict(X), average='micro').round(3)\n",
        "  \n",
        "  print(f'Acc {label}={accuracy_score(y, pred):.3f}')  \n",
        "  print(f'F1 {label}={f1}')\n",
        "  print(f'ROC_AUC {label}={roc_auc_score(y, lr.predict_proba(X)[:, 1]):.3f}\\n')"
      ],
      "metadata": {
        "colab": {
          "base_uri": "https://localhost:8080/"
        },
        "id": "5u0bGvc-69hF",
        "outputId": "68327736-8c46-4e35-f576-c60609288e3c"
      },
      "execution_count": 19,
      "outputs": [
        {
          "output_type": "stream",
          "name": "stdout",
          "text": [
            "Acc train=0.918\n",
            "F1 train=0.918\n",
            "ROC_AUC train=0.705\n",
            "\n",
            "Acc test=0.918\n",
            "F1 test=0.918\n",
            "ROC_AUC test=0.706\n",
            "\n"
          ]
        }
      ]
    },
    {
      "cell_type": "code",
      "source": [
        "print(classification_report(y_train, lr.predict(X_train)))\n"
      ],
      "metadata": {
        "colab": {
          "base_uri": "https://localhost:8080/"
        },
        "id": "1LfaeWCN6-x9",
        "outputId": "6af23d85-e469-4974-e6fc-3c94b3dd9677"
      },
      "execution_count": 20,
      "outputs": [
        {
          "output_type": "stream",
          "name": "stdout",
          "text": [
            "              precision    recall  f1-score   support\n",
            "\n",
            "           0       0.92      1.00      0.96     73466\n",
            "           1       0.00      0.00      0.00      6534\n",
            "\n",
            "    accuracy                           0.92     80000\n",
            "   macro avg       0.46      0.50      0.48     80000\n",
            "weighted avg       0.84      0.92      0.88     80000\n",
            "\n"
          ]
        },
        {
          "output_type": "stream",
          "name": "stderr",
          "text": [
            "/usr/local/lib/python3.8/dist-packages/sklearn/metrics/_classification.py:1318: UndefinedMetricWarning: Precision and F-score are ill-defined and being set to 0.0 in labels with no predicted samples. Use `zero_division` parameter to control this behavior.\n",
            "  _warn_prf(average, modifier, msg_start, len(result))\n",
            "/usr/local/lib/python3.8/dist-packages/sklearn/metrics/_classification.py:1318: UndefinedMetricWarning: Precision and F-score are ill-defined and being set to 0.0 in labels with no predicted samples. Use `zero_division` parameter to control this behavior.\n",
            "  _warn_prf(average, modifier, msg_start, len(result))\n",
            "/usr/local/lib/python3.8/dist-packages/sklearn/metrics/_classification.py:1318: UndefinedMetricWarning: Precision and F-score are ill-defined and being set to 0.0 in labels with no predicted samples. Use `zero_division` parameter to control this behavior.\n",
            "  _warn_prf(average, modifier, msg_start, len(result))\n"
          ]
        }
      ]
    },
    {
      "cell_type": "code",
      "source": [
        "print(classification_report(y_valid, lr.predict(X_valid)))\n"
      ],
      "metadata": {
        "colab": {
          "base_uri": "https://localhost:8080/"
        },
        "id": "TQIWISDY6_su",
        "outputId": "5de207a2-3c82-4e17-9082-ef1f640d1a0b"
      },
      "execution_count": 21,
      "outputs": [
        {
          "output_type": "stream",
          "name": "stdout",
          "text": [
            "              precision    recall  f1-score   support\n",
            "\n",
            "           0       0.92      1.00      0.96     18366\n",
            "           1       0.00      0.00      0.00      1634\n",
            "\n",
            "    accuracy                           0.92     20000\n",
            "   macro avg       0.46      0.50      0.48     20000\n",
            "weighted avg       0.84      0.92      0.88     20000\n",
            "\n"
          ]
        },
        {
          "output_type": "stream",
          "name": "stderr",
          "text": [
            "/usr/local/lib/python3.8/dist-packages/sklearn/metrics/_classification.py:1318: UndefinedMetricWarning: Precision and F-score are ill-defined and being set to 0.0 in labels with no predicted samples. Use `zero_division` parameter to control this behavior.\n",
            "  _warn_prf(average, modifier, msg_start, len(result))\n",
            "/usr/local/lib/python3.8/dist-packages/sklearn/metrics/_classification.py:1318: UndefinedMetricWarning: Precision and F-score are ill-defined and being set to 0.0 in labels with no predicted samples. Use `zero_division` parameter to control this behavior.\n",
            "  _warn_prf(average, modifier, msg_start, len(result))\n",
            "/usr/local/lib/python3.8/dist-packages/sklearn/metrics/_classification.py:1318: UndefinedMetricWarning: Precision and F-score are ill-defined and being set to 0.0 in labels with no predicted samples. Use `zero_division` parameter to control this behavior.\n",
            "  _warn_prf(average, modifier, msg_start, len(result))\n"
          ]
        }
      ]
    },
    {
      "cell_type": "code",
      "source": [
        "params = dict(\n",
        "    n_estimators = range(5, 150, 5),\n",
        "    min_samples_split = range(1, 20, 2),\n",
        "    min_samples_leaf = range(1, 20, 2),\n",
        "    max_samples = np.linspace(0, 1, 20)\n",
        ")\n",
        "rf = RandomForestClassifier()\n",
        "rf = RandomizedSearchCV(rf, params, n_jobs=-1, cv=5, random_state=random_state)\n",
        "rf.fit(X_train, y_train)"
      ],
      "metadata": {
        "colab": {
          "base_uri": "https://localhost:8080/"
        },
        "id": "YNogq0Ai7Ak4",
        "outputId": "9ac52a23-f759-408a-eee1-95c5eebdb597"
      },
      "execution_count": 22,
      "outputs": [
        {
          "output_type": "execute_result",
          "data": {
            "text/plain": [
              "RandomizedSearchCV(cv=5, estimator=RandomForestClassifier(), n_jobs=-1,\n",
              "                   param_distributions={'max_samples': array([0.        , 0.05263158, 0.10526316, 0.15789474, 0.21052632,\n",
              "       0.26315789, 0.31578947, 0.36842105, 0.42105263, 0.47368421,\n",
              "       0.52631579, 0.57894737, 0.63157895, 0.68421053, 0.73684211,\n",
              "       0.78947368, 0.84210526, 0.89473684, 0.94736842, 1.        ]),\n",
              "                                        'min_samples_leaf': range(1, 20, 2),\n",
              "                                        'min_samples_split': range(1, 20, 2),\n",
              "                                        'n_estimators': range(5, 150, 5)},\n",
              "                   random_state=1)"
            ]
          },
          "metadata": {},
          "execution_count": 22
        }
      ]
    },
    {
      "cell_type": "code",
      "source": [
        "best_params = rf.best_params_\n",
        "best_params"
      ],
      "metadata": {
        "colab": {
          "base_uri": "https://localhost:8080/"
        },
        "id": "XXkgMuNF7Bsp",
        "outputId": "a29593b2-3cb2-4a55-db9f-eaff6c28dcd5"
      },
      "execution_count": 23,
      "outputs": [
        {
          "output_type": "execute_result",
          "data": {
            "text/plain": [
              "{'n_estimators': 65,\n",
              " 'min_samples_split': 19,\n",
              " 'min_samples_leaf': 13,\n",
              " 'max_samples': 0.10526315789473684}"
            ]
          },
          "metadata": {},
          "execution_count": 23
        }
      ]
    },
    {
      "cell_type": "code",
      "source": [
        "for X, y, label in zip([X_train, X_valid], [y_train, y_valid], ['train', 'test']):\n",
        "  pred = rf.predict(X)\n",
        "  f1 = f1_score(y, rf.predict(X), average='micro').round(3)\n",
        "  \n",
        "  print(f'Acc {label}={accuracy_score(y, pred):.3f}')  \n",
        "  print(f'F1 {label}={f1}')\n",
        "  print(f'ROC_AUC {label}={roc_auc_score(y, rf.predict_proba(X)[:, 1]):.3f}\\n')"
      ],
      "metadata": {
        "colab": {
          "base_uri": "https://localhost:8080/"
        },
        "id": "7wCgfX5n7DJk",
        "outputId": "a63a1ec4-ec46-4df1-9720-ee725c51e7b7"
      },
      "execution_count": 24,
      "outputs": [
        {
          "output_type": "stream",
          "name": "stdout",
          "text": [
            "Acc train=0.918\n",
            "F1 train=0.918\n",
            "ROC_AUC train=0.755\n",
            "\n",
            "Acc test=0.918\n",
            "F1 test=0.918\n",
            "ROC_AUC test=0.709\n",
            "\n"
          ]
        }
      ]
    },
    {
      "cell_type": "code",
      "source": [
        "print(classification_report(y_train, rf.predict(X_train)))\n"
      ],
      "metadata": {
        "colab": {
          "base_uri": "https://localhost:8080/"
        },
        "id": "NMET_2e27Eh6",
        "outputId": "146c5122-415c-4365-ef78-80d02dd85982"
      },
      "execution_count": 25,
      "outputs": [
        {
          "output_type": "stream",
          "name": "stdout",
          "text": [
            "              precision    recall  f1-score   support\n",
            "\n",
            "           0       0.92      1.00      0.96     73466\n",
            "           1       0.00      0.00      0.00      6534\n",
            "\n",
            "    accuracy                           0.92     80000\n",
            "   macro avg       0.46      0.50      0.48     80000\n",
            "weighted avg       0.84      0.92      0.88     80000\n",
            "\n"
          ]
        },
        {
          "output_type": "stream",
          "name": "stderr",
          "text": [
            "/usr/local/lib/python3.8/dist-packages/sklearn/metrics/_classification.py:1318: UndefinedMetricWarning: Precision and F-score are ill-defined and being set to 0.0 in labels with no predicted samples. Use `zero_division` parameter to control this behavior.\n",
            "  _warn_prf(average, modifier, msg_start, len(result))\n",
            "/usr/local/lib/python3.8/dist-packages/sklearn/metrics/_classification.py:1318: UndefinedMetricWarning: Precision and F-score are ill-defined and being set to 0.0 in labels with no predicted samples. Use `zero_division` parameter to control this behavior.\n",
            "  _warn_prf(average, modifier, msg_start, len(result))\n",
            "/usr/local/lib/python3.8/dist-packages/sklearn/metrics/_classification.py:1318: UndefinedMetricWarning: Precision and F-score are ill-defined and being set to 0.0 in labels with no predicted samples. Use `zero_division` parameter to control this behavior.\n",
            "  _warn_prf(average, modifier, msg_start, len(result))\n"
          ]
        }
      ]
    },
    {
      "cell_type": "code",
      "source": [
        "print(classification_report(y_valid, rf.predict(X_valid)))\n"
      ],
      "metadata": {
        "colab": {
          "base_uri": "https://localhost:8080/"
        },
        "id": "eZOyJbj07FpD",
        "outputId": "5222a3ab-3446-4eaa-b00e-0f4155fefed2"
      },
      "execution_count": 26,
      "outputs": [
        {
          "output_type": "stream",
          "name": "stdout",
          "text": [
            "              precision    recall  f1-score   support\n",
            "\n",
            "           0       0.92      1.00      0.96     18366\n",
            "           1       0.00      0.00      0.00      1634\n",
            "\n",
            "    accuracy                           0.92     20000\n",
            "   macro avg       0.46      0.50      0.48     20000\n",
            "weighted avg       0.84      0.92      0.88     20000\n",
            "\n"
          ]
        },
        {
          "output_type": "stream",
          "name": "stderr",
          "text": [
            "/usr/local/lib/python3.8/dist-packages/sklearn/metrics/_classification.py:1318: UndefinedMetricWarning: Precision and F-score are ill-defined and being set to 0.0 in labels with no predicted samples. Use `zero_division` parameter to control this behavior.\n",
            "  _warn_prf(average, modifier, msg_start, len(result))\n",
            "/usr/local/lib/python3.8/dist-packages/sklearn/metrics/_classification.py:1318: UndefinedMetricWarning: Precision and F-score are ill-defined and being set to 0.0 in labels with no predicted samples. Use `zero_division` parameter to control this behavior.\n",
            "  _warn_prf(average, modifier, msg_start, len(result))\n",
            "/usr/local/lib/python3.8/dist-packages/sklearn/metrics/_classification.py:1318: UndefinedMetricWarning: Precision and F-score are ill-defined and being set to 0.0 in labels with no predicted samples. Use `zero_division` parameter to control this behavior.\n",
            "  _warn_prf(average, modifier, msg_start, len(result))\n"
          ]
        }
      ]
    },
    {
      "cell_type": "code",
      "source": [
        "params = dict(\n",
        "    max_depth = [3, None],\n",
        "    max_features = range(1, 9, 1),\n",
        "    min_samples_leaf = range(1, 9, 1),\n",
        "    criterion = [\"gini\", \"entropy\"]\n",
        ")\n",
        "dt = DecisionTreeClassifier()\n",
        "dt = RandomizedSearchCV(dt, params, n_jobs=-1, cv=5, random_state=random_state)\n",
        "dt.fit(X_train, y_train)"
      ],
      "metadata": {
        "colab": {
          "base_uri": "https://localhost:8080/"
        },
        "id": "p5SNdS2T7G0v",
        "outputId": "ad7dd6b1-ee52-4968-a387-c5f33e8db34f"
      },
      "execution_count": 27,
      "outputs": [
        {
          "output_type": "execute_result",
          "data": {
            "text/plain": [
              "RandomizedSearchCV(cv=5, estimator=DecisionTreeClassifier(), n_jobs=-1,\n",
              "                   param_distributions={'criterion': ['gini', 'entropy'],\n",
              "                                        'max_depth': [3, None],\n",
              "                                        'max_features': range(1, 9),\n",
              "                                        'min_samples_leaf': range(1, 9)},\n",
              "                   random_state=1)"
            ]
          },
          "metadata": {},
          "execution_count": 27
        }
      ]
    },
    {
      "cell_type": "code",
      "source": [
        "best_params = dt.best_params_\n",
        "best_params"
      ],
      "metadata": {
        "colab": {
          "base_uri": "https://localhost:8080/"
        },
        "id": "9sT0OnMg7INS",
        "outputId": "6ef6994c-f7b2-41c6-94c0-81fe29a480b1"
      },
      "execution_count": 28,
      "outputs": [
        {
          "output_type": "execute_result",
          "data": {
            "text/plain": [
              "{'min_samples_leaf': 3, 'max_features': 5, 'max_depth': 3, 'criterion': 'gini'}"
            ]
          },
          "metadata": {},
          "execution_count": 28
        }
      ]
    },
    {
      "cell_type": "code",
      "source": [
        "for X, y, label in zip([X_train, X_valid], [y_train, y_valid], ['train', 'test']):\n",
        "  pred = dt.predict(X)\n",
        "  f1 = f1_score(y, dt.predict(X), average='micro').round(3)\n",
        "  \n",
        "  print(f'Acc {label}={accuracy_score(y, pred):.3f}')  \n",
        "  print(f'F1 {label}={f1}')\n",
        "  print(f'ROC_AUC {label}={roc_auc_score(y, dt.predict_proba(X)[:, 1]):.3f}\\n')"
      ],
      "metadata": {
        "colab": {
          "base_uri": "https://localhost:8080/"
        },
        "id": "QliA_vxO7KEU",
        "outputId": "8c745c7a-72b0-4ec6-de43-765293b2f3cd"
      },
      "execution_count": 29,
      "outputs": [
        {
          "output_type": "stream",
          "name": "stdout",
          "text": [
            "Acc train=0.918\n",
            "F1 train=0.918\n",
            "ROC_AUC train=0.667\n",
            "\n",
            "Acc test=0.918\n",
            "F1 test=0.918\n",
            "ROC_AUC test=0.659\n",
            "\n"
          ]
        }
      ]
    },
    {
      "cell_type": "code",
      "source": [
        "print(classification_report(y_train, dt.predict(X_train)))\n"
      ],
      "metadata": {
        "colab": {
          "base_uri": "https://localhost:8080/"
        },
        "id": "iPnng2Zq7LMi",
        "outputId": "92c5fb6a-303b-458c-cf17-553071552d5d"
      },
      "execution_count": 30,
      "outputs": [
        {
          "output_type": "stream",
          "name": "stdout",
          "text": [
            "              precision    recall  f1-score   support\n",
            "\n",
            "           0       0.92      1.00      0.96     73466\n",
            "           1       0.00      0.00      0.00      6534\n",
            "\n",
            "    accuracy                           0.92     80000\n",
            "   macro avg       0.46      0.50      0.48     80000\n",
            "weighted avg       0.84      0.92      0.88     80000\n",
            "\n"
          ]
        },
        {
          "output_type": "stream",
          "name": "stderr",
          "text": [
            "/usr/local/lib/python3.8/dist-packages/sklearn/metrics/_classification.py:1318: UndefinedMetricWarning: Precision and F-score are ill-defined and being set to 0.0 in labels with no predicted samples. Use `zero_division` parameter to control this behavior.\n",
            "  _warn_prf(average, modifier, msg_start, len(result))\n",
            "/usr/local/lib/python3.8/dist-packages/sklearn/metrics/_classification.py:1318: UndefinedMetricWarning: Precision and F-score are ill-defined and being set to 0.0 in labels with no predicted samples. Use `zero_division` parameter to control this behavior.\n",
            "  _warn_prf(average, modifier, msg_start, len(result))\n",
            "/usr/local/lib/python3.8/dist-packages/sklearn/metrics/_classification.py:1318: UndefinedMetricWarning: Precision and F-score are ill-defined and being set to 0.0 in labels with no predicted samples. Use `zero_division` parameter to control this behavior.\n",
            "  _warn_prf(average, modifier, msg_start, len(result))\n"
          ]
        }
      ]
    },
    {
      "cell_type": "code",
      "source": [
        "print(classification_report(y_valid, dt.predict(X_valid)))\n"
      ],
      "metadata": {
        "colab": {
          "base_uri": "https://localhost:8080/"
        },
        "id": "hhfL6t8L7MLP",
        "outputId": "fba7bdd6-8487-46c9-eac9-babcccb3e54d"
      },
      "execution_count": 31,
      "outputs": [
        {
          "output_type": "stream",
          "name": "stdout",
          "text": [
            "              precision    recall  f1-score   support\n",
            "\n",
            "           0       0.92      1.00      0.96     18366\n",
            "           1       0.00      0.00      0.00      1634\n",
            "\n",
            "    accuracy                           0.92     20000\n",
            "   macro avg       0.46      0.50      0.48     20000\n",
            "weighted avg       0.84      0.92      0.88     20000\n",
            "\n"
          ]
        },
        {
          "output_type": "stream",
          "name": "stderr",
          "text": [
            "/usr/local/lib/python3.8/dist-packages/sklearn/metrics/_classification.py:1318: UndefinedMetricWarning: Precision and F-score are ill-defined and being set to 0.0 in labels with no predicted samples. Use `zero_division` parameter to control this behavior.\n",
            "  _warn_prf(average, modifier, msg_start, len(result))\n",
            "/usr/local/lib/python3.8/dist-packages/sklearn/metrics/_classification.py:1318: UndefinedMetricWarning: Precision and F-score are ill-defined and being set to 0.0 in labels with no predicted samples. Use `zero_division` parameter to control this behavior.\n",
            "  _warn_prf(average, modifier, msg_start, len(result))\n",
            "/usr/local/lib/python3.8/dist-packages/sklearn/metrics/_classification.py:1318: UndefinedMetricWarning: Precision and F-score are ill-defined and being set to 0.0 in labels with no predicted samples. Use `zero_division` parameter to control this behavior.\n",
            "  _warn_prf(average, modifier, msg_start, len(result))\n"
          ]
        }
      ]
    },
    {
      "cell_type": "code",
      "source": [],
      "metadata": {
        "id": "nleQiZnT7NL1"
      },
      "execution_count": 31,
      "outputs": []
    }
  ]
}